{
 "cells": [
  {
   "cell_type": "code",
   "execution_count": null,
   "id": "c40f6229-c46c-4212-b77d-5e0b0bd2f517",
   "metadata": {},
   "outputs": [],
   "source": [
    "def parse_headers(header_line):\n",
    "    return header_line.strip().split(',')\n",
    "\n",
    "def parse_values(data_line):\n",
    "    values = []\n",
    "    for item in data_line.strip().split(','):\n",
    "        if item == '':\n",
    "            values.append(0.0)\n",
    "        else:\n",
    "            try:\n",
    "                values.append(float(item))\n",
    "            except ValueError:\n",
    "                values.append(item)\n",
    "    return values\n",
    "\n",
    "def create_item_dict(values, headers):\n",
    "    result = {}\n",
    "    for value, header in zip(values, headers):\n",
    "        result[header] = value\n",
    "    return result\n",
    "\n",
    "def read_csv(path):\n",
    "    result = []\n",
    "    # Open the file in read mode\n",
    "    with open(path, 'r') as f:\n",
    "        # Get a list of lines\n",
    "        lines = f.readlines()\n",
    "        # Parse the header\n",
    "        headers = parse_headers(lines[0])\n",
    "        # Loop over the remaining lines\n",
    "        for data_line in lines[1:]:\n",
    "            # Parse the values\n",
    "            values = parse_values(data_line)\n",
    "            # Create a dictionary using values & headers\n",
    "            item_dict = create_item_dict(values, headers)\n",
    "            # Add the dictionary to the result\n",
    "            result.append(item_dict)\n",
    "    return result"
   ]
  },
  {
   "cell_type": "markdown",
   "id": "4feeb505-9946-46cd-957a-b4accaef1f8f",
   "metadata": {},
   "source": [
    "# Above Functions\n",
    "are for clearing a csv file and changing it into dictionary"
   ]
  },
  {
   "cell_type": "code",
   "execution_count": 2,
   "id": "05996b5e-5aa1-4aae-b306-4c6f9ce7f277",
   "metadata": {},
   "outputs": [
    {
     "data": {
      "application/javascript": [
       "if (window.IPython && IPython.notebook.kernel) IPython.notebook.kernel.execute('jovian.utils.jupyter.get_notebook_name_saved = lambda: \"' + IPython.notebook.notebook_name + '\"')"
      ],
      "text/plain": [
       "<IPython.core.display.Javascript object>"
      ]
     },
     "metadata": {},
     "output_type": "display_data"
    }
   ],
   "source": [
    "import jovian"
   ]
  },
  {
   "cell_type": "code",
   "execution_count": 4,
   "id": "23e0277e-408c-40f0-bd0f-ee9cdb3d8e90",
   "metadata": {},
   "outputs": [
    {
     "data": {
      "application/javascript": [
       "window.require && require([\"base/js/namespace\"],function(Jupyter){Jupyter.notebook.save_checkpoint()})"
      ],
      "text/plain": [
       "<IPython.core.display.Javascript object>"
      ]
     },
     "metadata": {},
     "output_type": "display_data"
    },
    {
     "name": "stderr",
     "output_type": "stream",
     "text": [
      "\u001b[31m[jovian] Error: Looks like the notebook is missing output cells, please save the notebook and try jovian.commit again.\u001b[0m\n"
     ]
    },
    {
     "name": "stdout",
     "output_type": "stream",
     "text": [
      "[jovian] Committed successfully! https://jovian.ai/thehimanshutiwari/importantfunctions\u001b[0m\n"
     ]
    },
    {
     "data": {
      "text/plain": [
       "'https://jovian.ai/thehimanshutiwari/importantfunctions'"
      ]
     },
     "execution_count": 4,
     "metadata": {},
     "output_type": "execute_result"
    }
   ],
   "source": [
    "jovian.commit(filename ='importantfunctions.ipynb',environment=None)"
   ]
  },
  {
   "cell_type": "code",
   "execution_count": null,
   "id": "a9aaf6e4-82e6-475a-a5fb-8191f37acae7",
   "metadata": {},
   "outputs": [],
   "source": []
  }
 ],
 "metadata": {
  "kernelspec": {
   "display_name": "Python 3",
   "language": "python",
   "name": "python3"
  },
  "language_info": {
   "codemirror_mode": {
    "name": "ipython",
    "version": 3
   },
   "file_extension": ".py",
   "mimetype": "text/x-python",
   "name": "python",
   "nbconvert_exporter": "python",
   "pygments_lexer": "ipython3",
   "version": "3.7.9"
  }
 },
 "nbformat": 4,
 "nbformat_minor": 5
}
