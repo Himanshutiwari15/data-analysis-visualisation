{
 "cells": [
  {
   "cell_type": "code",
   "execution_count": null,
   "id": "f447085c-712e-4227-b061-2e1fb5f1a2f9",
   "metadata": {},
   "outputs": [],
   "source": [
    "6+5"
   ]
  },
  {
   "cell_type": "code",
   "execution_count": null,
   "id": "f0d88fcd-3c18-4c3c-8563-c5e9c76df660",
   "metadata": {},
   "outputs": [],
   "source": [
    "# let's try out some coding normal things\n",
    "number_one = 24\n",
    "number_two = 45\n",
    "\n",
    "total = number_one + number_two #this is an expression\n",
    "\n",
    "#now time for a print command\n",
    "print(\"the sum of two numbers are\",total)"
   ]
  },
  {
   "cell_type": "markdown",
   "id": "cf703722-e3f1-41ce-9f1b-166fa7949280",
   "metadata": {},
   "source": [
    "# So Let's add more to it. Some important format function"
   ]
  },
  {
   "cell_type": "code",
   "execution_count": null,
   "id": "97edbf34-66e9-486a-a78e-e4d22a11c989",
   "metadata": {},
   "outputs": [],
   "source": [
    "# taking different data type values\n",
    "number_data = 15\n",
    "string_data = \"himanshu\"\n",
    "float_data = 3.45\n",
    "boolean_data = False\n",
    "paragraph_data = None\n",
    "\n",
    "# now using those data \n",
    "paragraph_data = \"\"\" Hey this is {} and i was born on {} and my experience in company is {} years. I can never take {} in my life.\"\"\"\n",
    "paragraph_data = paragraph_data.format(string_data,number_data,float_data,boolean_data)\n",
    "\n",
    "# printing\n",
    "print(type(boolean_data))\n",
    "print(paragraph_data)"
   ]
  },
  {
   "cell_type": "markdown",
   "id": "f2146e15-9a9b-4ed5-8b76-7cb548ee0a00",
   "metadata": {},
   "source": [
    "# LISTS\n",
    "### Trying out some diffrent things in a list"
   ]
  },
  {
   "cell_type": "code",
   "execution_count": null,
   "id": "cb7ee649-aa9d-4e5c-9edf-000e92a57a72",
   "metadata": {},
   "outputs": [],
   "source": [
    "list_data = ['heyo','nano',1,True]\n",
    "car = list_data[1]\n",
    "print(list_data)"
   ]
  },
  {
   "cell_type": "markdown",
   "id": "bb56452d-8d73-439e-b1c8-07f31783a684",
   "metadata": {},
   "source": [
    "#### Reverse the order of elements in a list"
   ]
  },
  {
   "cell_type": "code",
   "execution_count": null,
   "id": "eb04d677-fec7-4a7d-baa5-d17ce62a2dad",
   "metadata": {},
   "outputs": [],
   "source": [
    "print(list_data[::-1])"
   ]
  },
  {
   "cell_type": "markdown",
   "id": "6f8de88c-bb2a-472a-8692-f83e2863908e",
   "metadata": {},
   "source": [
    "#### Add the element of one list to the end of another list"
   ]
  },
  {
   "cell_type": "code",
   "execution_count": null,
   "id": "d407aaf6-810a-4822-b234-67227cab176e",
   "metadata": {},
   "outputs": [],
   "source": [
    "list_data = ['a','b','c']\n",
    "list_data_two = ['okkk']\n",
    "list_data.extend(list_data_two)\n",
    "print(list_data)"
   ]
  },
  {
   "cell_type": "markdown",
   "id": "47e0009f-f562-4d10-89f0-2f21386985d5",
   "metadata": {},
   "source": [
    "#### Sort a list of strings in alphabetical order"
   ]
  },
  {
   "cell_type": "code",
   "execution_count": null,
   "id": "592233be-fb7c-43b0-a78c-7b3e500a8b84",
   "metadata": {},
   "outputs": [],
   "source": [
    "cars = ['mer','ert','dsgdsg']\n",
    "cars.sort()\n",
    "print(cars)"
   ]
  },
  {
   "cell_type": "markdown",
   "id": "781d231a-7072-4692-a8c8-29f6fdbf2778",
   "metadata": {},
   "source": [
    "#### Sort a list of strings in decreasing order"
   ]
  },
  {
   "cell_type": "code",
   "execution_count": null,
   "id": "d09da60a-35fc-4776-9be4-221652a7c27e",
   "metadata": {},
   "outputs": [],
   "source": [
    "cars = ['mer','ert','dsgdsg']\n",
    "cars.sort(reverse = True)\n",
    "print(cars)"
   ]
  },
  {
   "cell_type": "markdown",
   "id": "c6234aba-ec21-4a01-ba4a-f2b6697be13d",
   "metadata": {},
   "source": [
    "# Dictionary"
   ]
  },
  {
   "cell_type": "markdown",
   "id": "8fd26bd2-9618-43b9-8483-091f27380735",
   "metadata": {},
   "source": [
    "#### what happens if you use the same key multiple times while creating dictionary"
   ]
  },
  {
   "cell_type": "code",
   "execution_count": null,
   "id": "8fcbc4bf-c12d-45b0-a100-2bb33a5238cb",
   "metadata": {},
   "outputs": [],
   "source": [
    "my_data = dict(name=\"hima\",name=\"himaaaaa\",age=4)\n",
    "\n",
    "print(my_data)"
   ]
  },
  {
   "cell_type": "markdown",
   "id": "aa2bf243-4830-4f72-84e1-f4aebec058da",
   "metadata": {},
   "source": [
    " File \"<ipython-input-71-5a5ed7596ac6>\", line 1\n",
    "    my_data = dict(name=\"hima\",name=\"himaaaaa\",age=4)\n",
    "                              ^\n",
    "SyntaxError: keyword argument repeated"
   ]
  },
  {
   "cell_type": "markdown",
   "id": "92385ce5-2986-42c5-8775-8844b53246bf",
   "metadata": {},
   "source": [
    "#### How can you create a copy of a dictionary ?"
   ]
  },
  {
   "cell_type": "code",
   "execution_count": null,
   "id": "95f50105-8c39-4a62-83a7-981e0f2580c7",
   "metadata": {},
   "outputs": [],
   "source": [
    "my_data = dict(name=\"hima\",lname=\"himsddsggdaaaaa\",age=4)\n",
    "my_data_copy = dict(my_data)\n",
    "my_data_copy[\"name\"] = \"tiwar\" \n",
    "\n",
    "print(my_data)\n",
    "\n",
    "print(my_data_copy)"
   ]
  },
  {
   "cell_type": "markdown",
   "id": "22d1716b-b6dc-4791-a68e-95c4b09610b6",
   "metadata": {},
   "source": [
    "#### Can the value associated with a key itself be a dictionary?"
   ]
  },
  {
   "cell_type": "code",
   "execution_count": null,
   "id": "f36ddcab-b97e-4e0a-8c4a-32e73fdb3d6e",
   "metadata": {},
   "outputs": [],
   "source": [
    "my_data = dict(names= dict(name1=\"a\",name2=\"b\"),lname=\"himaaaaa\",age=4)\n",
    "\n",
    "print(my_data)\n",
    "dict_data = my_data[\"names\"]\n",
    "type(dict_data)\n",
    "dict_data['name1']"
   ]
  },
  {
   "cell_type": "markdown",
   "id": "e0823729-b443-41a1-b7f5-af857e0f0326",
   "metadata": {},
   "source": [
    "#### How can you add the key value pairs from one dictionary into another dictionary?"
   ]
  },
  {
   "cell_type": "code",
   "execution_count": null,
   "id": "b8722763-acf2-4b6f-aa3a-3c452bd75821",
   "metadata": {},
   "outputs": [],
   "source": [
    "d1 = dict(aim=1,name=\"hima\")\n",
    "d2 = dict(sex=\"male\")\n",
    "d1.update(d2)\n",
    "print(d1)"
   ]
  },
  {
   "cell_type": "markdown",
   "id": "94353729-c8b0-4dd3-a884-00d167d531d8",
   "metadata": {},
   "source": [
    "#### Can the key be something other than strings?"
   ]
  },
  {
   "cell_type": "code",
   "execution_count": null,
   "id": "f20fa600-7ad0-465c-89e4-4425b9968baa",
   "metadata": {},
   "outputs": [],
   "source": [
    "d1 = {\n",
    "    1:\"hii\",\n",
    "    (1,2,3):\"ererre\"}\n",
    "print(d1)"
   ]
  }
 ],
 "metadata": {
  "kernelspec": {
   "display_name": "Python 3",
   "language": "python",
   "name": "python3"
  },
  "language_info": {
   "codemirror_mode": {
    "name": "ipython",
    "version": 3
   },
   "file_extension": ".py",
   "mimetype": "text/x-python",
   "name": "python",
   "nbconvert_exporter": "python",
   "pygments_lexer": "ipython3",
   "version": "3.7.9"
  }
 },
 "nbformat": 4,
 "nbformat_minor": 5
}
