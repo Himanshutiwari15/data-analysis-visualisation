{
 "cells": [
  {
   "cell_type": "markdown",
   "id": "1ce7a4a6-1a4e-4fcf-b316-d75d79e6b98c",
   "metadata": {},
   "source": [
    "# Lesson 3"
   ]
  },
  {
   "cell_type": "markdown",
   "id": "ce8a7833-883b-427c-a70a-dc574267a18b",
   "metadata": {},
   "source": [
    "### Working with numerical data\n",
    "\n",
    "Given some climate data for a region, we can now predict the yield of apples. Here's some sample data:\n",
    "\n",
    "<img src=\"https://i.imgur.com/TXPBiqv.png\" style=\"width:360px;\">\n",
    "\n",
    "To begin, we can define some variables to record climate data for a region."
   ]
  },
  {
   "cell_type": "code",
   "execution_count": null,
   "id": "cfd98f25-03d3-41b6-b2cf-c97d882869e3",
   "metadata": {},
   "outputs": [],
   "source": [
    "weights = [0.3,0.2,0.5]\n",
    "kanto = [73,67,43] # instead of making different variables i made it easier \n",
    "johto = [91,88,64]\n",
    "hoenn = [87,134,58]\n"
   ]
  },
  {
   "cell_type": "code",
   "execution_count": null,
   "id": "cf363317-8f3d-455e-8854-67daf15fcb11",
   "metadata": {},
   "outputs": [],
   "source": [
    "def yeilds_of_apple(weight,region):\n",
    "    result = 0\n",
    "    for w,r in zip(weight,region): #zip is forming pairs of elemnts \n",
    "        result += w * r\n",
    "    return result"
   ]
  },
  {
   "cell_type": "code",
   "execution_count": null,
   "id": "a458f878-6521-4efd-9c2d-485efd8a4f50",
   "metadata": {},
   "outputs": [],
   "source": [
    "print(yeilds_of_apple(weights,kanto))\n",
    "print(yeilds_of_apple(weights,hoenn))"
   ]
  },
  {
   "cell_type": "code",
   "execution_count": null,
   "id": "afac6f35-2a95-4744-a284-3ed3beaae5f6",
   "metadata": {},
   "outputs": [],
   "source": [
    "#functioning of zip\n",
    "\n",
    "for items in zip(weights,johto):\n",
    "    print(items)"
   ]
  },
  {
   "cell_type": "markdown",
   "id": "db91ece4-4046-4d22-b56a-61dc60017a87",
   "metadata": {},
   "source": [
    "## NUMPY"
   ]
  },
  {
   "cell_type": "code",
   "execution_count": null,
   "id": "64822547-8f49-4ea2-a0f0-fc31a7a17886",
   "metadata": {},
   "outputs": [],
   "source": [
    "!pip install numpy"
   ]
  },
  {
   "cell_type": "code",
   "execution_count": 1,
   "id": "458e9693-41b5-44d0-a056-69e9895b62a7",
   "metadata": {},
   "outputs": [],
   "source": [
    "import numpy as np"
   ]
  },
  {
   "cell_type": "code",
   "execution_count": null,
   "id": "a4f925d2-3353-4dac-952c-166c65b69cbc",
   "metadata": {},
   "outputs": [],
   "source": [
    "kanto = np.array([73,67,43])\n",
    "weights = np.array([0.3,0.2,0.5])"
   ]
  },
  {
   "cell_type": "code",
   "execution_count": null,
   "id": "50c17fbf-6f91-4772-82bf-7bed3214fc92",
   "metadata": {},
   "outputs": [],
   "source": [
    "kanto"
   ]
  },
  {
   "cell_type": "code",
   "execution_count": null,
   "id": "0e4b35d7-f08c-4589-ae56-46033bc5bfbf",
   "metadata": {},
   "outputs": [],
   "source": [
    "weights"
   ]
  },
  {
   "cell_type": "code",
   "execution_count": null,
   "id": "92b140c7-9349-4041-938c-859172dc92a6",
   "metadata": {},
   "outputs": [],
   "source": [
    "np.dot(weights,kanto)"
   ]
  },
  {
   "cell_type": "code",
   "execution_count": null,
   "id": "41d68156-2da8-42f4-9943-80e929117a64",
   "metadata": {},
   "outputs": [],
   "source": [
    "(weights * kanto).sum()"
   ]
  },
  {
   "cell_type": "markdown",
   "id": "bf19e08b-42f4-49c8-a9cb-6ed85c196780",
   "metadata": {},
   "source": [
    "## Multi Dimensional Numpy arrays"
   ]
  },
  {
   "cell_type": "code",
   "execution_count": null,
   "id": "b8f7e2e1-3a42-4f25-bd92-e9988349def6",
   "metadata": {},
   "outputs": [],
   "source": [
    "twoDarray = np.array([[1,2,3],\n",
    "                      [2,3,4],\n",
    "                      [3,4,5]])"
   ]
  },
  {
   "cell_type": "code",
   "execution_count": null,
   "id": "0dae99de-962d-4197-a8c3-6cfb48dfe751",
   "metadata": {},
   "outputs": [],
   "source": [
    "twoDarray"
   ]
  },
  {
   "cell_type": "code",
   "execution_count": null,
   "id": "6b89d328-29d2-43ae-b4a4-ac409fdd15bb",
   "metadata": {},
   "outputs": [],
   "source": [
    "threeDarray = np.array([\n",
    "    [[1,2,3],\n",
    "     [2,3,4]],\n",
    "    [[3,4,5],[5,6,7]]])"
   ]
  },
  {
   "cell_type": "code",
   "execution_count": null,
   "id": "cb6bfd98-d2a6-452c-bc87-b08193704eb9",
   "metadata": {},
   "outputs": [],
   "source": [
    "arr3 = np.array([\n",
    "    [[11, 12, 13,12], \n",
    "     [13, 14, 15,12]], \n",
    "    [[15, 16, 17,12], \n",
    "     [17, 18, 19.5,12]]])"
   ]
  },
  {
   "cell_type": "code",
   "execution_count": null,
   "id": "b5c4419d-106c-4994-9e3f-36debc92b48f",
   "metadata": {},
   "outputs": [],
   "source": [
    "threeDarray\n"
   ]
  },
  {
   "cell_type": "code",
   "execution_count": null,
   "id": "f68467c8-aa2e-474f-93bf-897023cd33de",
   "metadata": {},
   "outputs": [],
   "source": [
    "threeDarray.shape"
   ]
  },
  {
   "cell_type": "code",
   "execution_count": null,
   "id": "5e5ab2e4-9437-47a2-a508-fc8643eaab04",
   "metadata": {},
   "outputs": [],
   "source": [
    "arr3.shape"
   ]
  },
  {
   "cell_type": "code",
   "execution_count": null,
   "id": "40158260-b4b7-41b6-a150-6cca8aef4e36",
   "metadata": {},
   "outputs": [],
   "source": [
    "climate_data = np.array([[73, 67, 43],\n",
    "                         [91, 88, 64],\n",
    "                         [87, 134, 58],\n",
    "                         [102, 43, 37],\n",
    "                         [69, 96, 70]])"
   ]
  },
  {
   "cell_type": "code",
   "execution_count": null,
   "id": "e874f223-765e-4a43-b8e2-18246971a2de",
   "metadata": {},
   "outputs": [],
   "source": [
    "np.matmul(climate_data , weights) # matrix multiplication"
   ]
  },
  {
   "cell_type": "code",
   "execution_count": null,
   "id": "4a313a54-e804-4288-8d8a-9b5bfc160e86",
   "metadata": {},
   "outputs": [],
   "source": [
    "climate_data @ weights"
   ]
  },
  {
   "cell_type": "markdown",
   "id": "6ccaa071-c249-4f5d-97af-154a94c60189",
   "metadata": {},
   "source": [
    "## Working with CSV Data file"
   ]
  },
  {
   "cell_type": "code",
   "execution_count": 2,
   "id": "87f94e2a-c3ee-47dc-9fe4-644c35d0cc8e",
   "metadata": {},
   "outputs": [],
   "source": [
    "import urllib.request"
   ]
  },
  {
   "cell_type": "code",
   "execution_count": null,
   "id": "258b4c8e-c941-4663-b5ba-642796cf0dc5",
   "metadata": {},
   "outputs": [],
   "source": [
    "!pip install pandas"
   ]
  },
  {
   "cell_type": "code",
   "execution_count": 3,
   "id": "3288ecec-862c-497f-87e1-06b56e2eae35",
   "metadata": {},
   "outputs": [
    {
     "name": "stdout",
     "output_type": "stream",
     "text": [
      "   temperature  rainfall  humidity\n",
      "0         25.0      76.0      99.0\n",
      "1         39.0      65.0      70.0\n",
      "2         59.0      45.0      77.0\n",
      "3         84.0      63.0      38.0\n",
      "4         66.0      50.0      52.0\n"
     ]
    }
   ],
   "source": [
    "import pandas as pd\n",
    "\n",
    "climate_data = pd.read_csv (r'C:\\Users\\91962\\Desktop\\Data Analysis\\climate.csv')\n",
    "print (climate_data.head())"
   ]
  },
  {
   "cell_type": "code",
   "execution_count": null,
   "id": "d1a9ee3f-2b11-46e8-85c1-d2c9165dbc10",
   "metadata": {},
   "outputs": [],
   "source": [
    "urllib.request.urlretrieve(r'C:\\Users\\91962\\Desktop\\Data Analysis\\climate.csv','climate.txt')"
   ]
  },
  {
   "cell_type": "code",
   "execution_count": null,
   "id": "5f5af9c7-5311-4b51-b67c-05557a007a2a",
   "metadata": {},
   "outputs": [],
   "source": [
    "!pip install jovian"
   ]
  },
  {
   "cell_type": "code",
   "execution_count": null,
   "id": "0a1bbc46-fa80-4a11-9365-d6d1b73d4e45",
   "metadata": {},
   "outputs": [],
   "source": [
    "help(np.genfromtxt)"
   ]
  },
  {
   "cell_type": "code",
   "execution_count": null,
   "id": "22771f0f-57e5-4064-a4dd-65518c9add50",
   "metadata": {},
   "outputs": [],
   "source": [
    "climate_data = np.genfromtxt(r'C:\\Users\\91962\\Desktop\\Data Analysis\\climate.csv', delimiter=',', skip_header=1)"
   ]
  },
  {
   "cell_type": "code",
   "execution_count": null,
   "id": "0ee04487-1519-4d84-b392-b5f3adff37b7",
   "metadata": {},
   "outputs": [],
   "source": [
    "climate_data"
   ]
  },
  {
   "cell_type": "code",
   "execution_count": null,
   "id": "87da9b34-b81a-4e23-ae95-8d887845ff16",
   "metadata": {},
   "outputs": [],
   "source": [
    "climate_data.shape"
   ]
  },
  {
   "cell_type": "code",
   "execution_count": null,
   "id": "d35f314c-bfb2-4896-8538-a70a4a0a068d",
   "metadata": {},
   "outputs": [],
   "source": [
    "weights = np.array([0.3,0.2,0.5])"
   ]
  },
  {
   "cell_type": "code",
   "execution_count": null,
   "id": "036b7ede-1562-4e57-a0ee-6fb5e344cc83",
   "metadata": {},
   "outputs": [],
   "source": [
    "yields = climate_data @ weights"
   ]
  },
  {
   "cell_type": "code",
   "execution_count": null,
   "id": "0b37b7c7-0b75-4ab3-b4b5-56da38f55d37",
   "metadata": {},
   "outputs": [],
   "source": [
    "yields"
   ]
  },
  {
   "cell_type": "code",
   "execution_count": null,
   "id": "47055cd1-faf7-4f2b-92c1-668dd271be7e",
   "metadata": {},
   "outputs": [],
   "source": [
    "yields.shape"
   ]
  },
  {
   "cell_type": "code",
   "execution_count": null,
   "id": "dbd4e8ec-0bae-4de6-ade4-28205ae22358",
   "metadata": {},
   "outputs": [],
   "source": [
    "climate_results = np.concatenate((climate_data, yields.reshape(10000, 1)), axis=1)"
   ]
  },
  {
   "cell_type": "code",
   "execution_count": null,
   "id": "8840cb9e-c2d6-4215-8a59-8245d176b1e4",
   "metadata": {},
   "outputs": [],
   "source": [
    "climate_results"
   ]
  },
  {
   "cell_type": "code",
   "execution_count": null,
   "id": "12589f7e-a391-4b60-ab95-21c82574a35a",
   "metadata": {},
   "outputs": [],
   "source": [
    "np.savetxt('climate_results.csv', \n",
    "           climate_results, \n",
    "           fmt='%.2f', \n",
    "           delimiter=',',\n",
    "           header='temperature,rainfall,humidity,yeild_apples', \n",
    "           comments='')"
   ]
  },
  {
   "cell_type": "markdown",
   "id": "e32a7e68-65ad-4b96-b047-611554e96bf1",
   "metadata": {},
   "source": [
    "## Arithmetic Operations and broadcasting"
   ]
  },
  {
   "cell_type": "code",
   "execution_count": null,
   "id": "1819a0c2-fc24-4669-b7f9-93e1070f46ab",
   "metadata": {},
   "outputs": [],
   "source": [
    "!pip install jovian --upgrade --quiet"
   ]
  },
  {
   "cell_type": "code",
   "execution_count": 24,
   "id": "5506caf9-b088-4f41-a185-96bdfd93e78b",
   "metadata": {},
   "outputs": [
    {
     "data": {
      "application/javascript": [
       "if (window.IPython && IPython.notebook.kernel) IPython.notebook.kernel.execute('jovian.utils.jupyter.get_notebook_name_saved = lambda: \"' + IPython.notebook.notebook_name + '\"')"
      ],
      "text/plain": [
       "<IPython.core.display.Javascript object>"
      ]
     },
     "metadata": {},
     "output_type": "display_data"
    }
   ],
   "source": [
    "import jovian"
   ]
  },
  {
   "cell_type": "code",
   "execution_count": null,
   "id": "39e3cdff-6e6f-475f-904f-b512a4c56202",
   "metadata": {},
   "outputs": [],
   "source": [
    "jovian.commit(filename='lesson3.ipynb', environment=None)"
   ]
  },
  {
   "cell_type": "code",
   "execution_count": null,
   "id": "c99918c7-53aa-4829-afc3-247d7011de50",
   "metadata": {},
   "outputs": [],
   "source": [
    "arr1 = np.array([[1,2,3],\n",
    "                 [4,5,6],\n",
    "                 [7,8,9]])\n",
    "arr2 = np.array([[9,8,7],\n",
    "                 [6,5,4],\n",
    "                 [3,2,1]])"
   ]
  },
  {
   "cell_type": "code",
   "execution_count": null,
   "id": "e2ed2df7-b450-4600-af0d-9cb8ff0e54de",
   "metadata": {},
   "outputs": [],
   "source": [
    "arr1,arr2"
   ]
  },
  {
   "cell_type": "code",
   "execution_count": null,
   "id": "26d68414-357b-4fe1-b6e1-b15fc588d96e",
   "metadata": {},
   "outputs": [],
   "source": [
    "arr1 + 3"
   ]
  },
  {
   "cell_type": "code",
   "execution_count": null,
   "id": "bd307bc2-e753-46e2-be57-467178db8d1f",
   "metadata": {},
   "outputs": [],
   "source": [
    "arr1+arr2"
   ]
  },
  {
   "cell_type": "code",
   "execution_count": null,
   "id": "7ae68ff0-14f2-4da7-a5ff-33645a119617",
   "metadata": {},
   "outputs": [],
   "source": [
    "arr1-3"
   ]
  },
  {
   "cell_type": "code",
   "execution_count": null,
   "id": "542e6c2a-bb3a-4f14-8a79-d5166eccc3b2",
   "metadata": {},
   "outputs": [],
   "source": [
    "arr3 = np.array([1,2,3])\n",
    "arr3"
   ]
  },
  {
   "cell_type": "code",
   "execution_count": null,
   "id": "42bb66a0-7adc-41b2-bdbe-00504921352d",
   "metadata": {},
   "outputs": [],
   "source": [
    "arr1 + arr3"
   ]
  },
  {
   "cell_type": "code",
   "execution_count": null,
   "id": "8940cce2-85c0-43ac-89be-63163b7c72b7",
   "metadata": {},
   "outputs": [],
   "source": [
    "arr4 = np.array([1])\n",
    "arr4"
   ]
  },
  {
   "cell_type": "code",
   "execution_count": null,
   "id": "f099cfaa-369d-4018-9a28-2d95cf04d7ed",
   "metadata": {},
   "outputs": [],
   "source": [
    "arr3+arr4"
   ]
  },
  {
   "cell_type": "code",
   "execution_count": null,
   "id": "8960fbe8-3236-4e7b-8475-ba8b970e4bb7",
   "metadata": {},
   "outputs": [],
   "source": [
    "arr3 == arr4\n"
   ]
  },
  {
   "cell_type": "code",
   "execution_count": null,
   "id": "2285e591-11f7-4759-aa93-9ae861424a48",
   "metadata": {},
   "outputs": [],
   "source": [
    "(arr1 == arr3)"
   ]
  },
  {
   "cell_type": "code",
   "execution_count": null,
   "id": "e3dd73e1-40df-484b-b91d-fca5b3593a32",
   "metadata": {},
   "outputs": [],
   "source": [
    "(arr1 == arr3).sum()"
   ]
  },
  {
   "cell_type": "code",
   "execution_count": null,
   "id": "5af41aae-7540-4212-aff7-93443ee1c951",
   "metadata": {},
   "outputs": [],
   "source": [
    "jovian.commit(filename='lesson3.ipynb', environment=None)"
   ]
  },
  {
   "cell_type": "markdown",
   "id": "49495594-e06a-4392-a99e-89bf63932a25",
   "metadata": {
    "tags": []
   },
   "source": [
    "### Array indexing and slicing"
   ]
  },
  {
   "cell_type": "code",
   "execution_count": null,
   "id": "de39945c-0246-4f20-b2f4-abf210e1b932",
   "metadata": {},
   "outputs": [],
   "source": [
    "arr3 = np.array([\n",
    "    [[11, 12, 13, 14], \n",
    "     [13, 14, 15, 19]], \n",
    "    \n",
    "    [[15, 16, 17, 21], \n",
    "     [63, 92, 36, 18]], \n",
    "    \n",
    "    [[98, 32, 81, 23],      \n",
    "     [17, 18, 19.5, 43]]])"
   ]
  },
  {
   "cell_type": "code",
   "execution_count": null,
   "id": "6c6c4c89-ab17-4c88-8ca8-c332773a514c",
   "metadata": {},
   "outputs": [],
   "source": [
    "arr3[1,1,2]"
   ]
  },
  {
   "cell_type": "code",
   "execution_count": null,
   "id": "e143c8b5-47fd-48f1-b480-c50f05cc2c19",
   "metadata": {},
   "outputs": [],
   "source": [
    "arr3[:,:,3]"
   ]
  },
  {
   "cell_type": "code",
   "execution_count": null,
   "id": "f72d5492-328d-4607-a07f-3e860fee95dd",
   "metadata": {},
   "outputs": [],
   "source": [
    "arr3[:,:,range(0,4,2)]"
   ]
  },
  {
   "cell_type": "code",
   "execution_count": null,
   "id": "e203966c-09f3-42cf-90e1-5dd74f6eff48",
   "metadata": {},
   "outputs": [],
   "source": [
    "arr3[:,0,1]"
   ]
  },
  {
   "cell_type": "markdown",
   "id": "9590e25a-9ff2-4c00-bf41-ee0adc8e4f81",
   "metadata": {},
   "source": [
    "## Other ways of creating Numpy arrays"
   ]
  },
  {
   "cell_type": "code",
   "execution_count": null,
   "id": "9361f6da-cc6b-45f6-a289-7b1118f74d39",
   "metadata": {},
   "outputs": [],
   "source": [
    "# All zeros\n",
    "np.zeros((4, 7))"
   ]
  },
  {
   "cell_type": "code",
   "execution_count": null,
   "id": "829cf7a2-3bae-4ff5-acff-9032cdc38d7a",
   "metadata": {},
   "outputs": [],
   "source": [
    "# All ones\n",
    "np.ones([3, 1, 3])"
   ]
  },
  {
   "cell_type": "code",
   "execution_count": null,
   "id": "40f15440-7df7-410d-a95d-d86a40182b8d",
   "metadata": {},
   "outputs": [],
   "source": [
    "# Identity matrix\n",
    "np.eye(4)"
   ]
  },
  {
   "cell_type": "code",
   "execution_count": null,
   "id": "d81e28cd-6e4a-4a63-a566-3eb13b3afb73",
   "metadata": {},
   "outputs": [],
   "source": [
    "# Random vector\n",
    "np.random.rand(5)"
   ]
  },
  {
   "cell_type": "code",
   "execution_count": null,
   "id": "d6db730f-ade4-4e81-93d7-a35efeae55bf",
   "metadata": {},
   "outputs": [],
   "source": [
    "# Random matrix\n",
    "np.random.randn(2, 3) # rand vs. randn - what's the difference?"
   ]
  },
  {
   "cell_type": "code",
   "execution_count": null,
   "id": "a73de9d5-57b2-4be2-b927-a0cbdb139c3e",
   "metadata": {},
   "outputs": [],
   "source": [
    "# Fixed value\n",
    "np.full([3, 1,3], 2)"
   ]
  },
  {
   "cell_type": "code",
   "execution_count": null,
   "id": "56df20bf-d713-4ca9-9157-0e8725705982",
   "metadata": {},
   "outputs": [],
   "source": [
    "# Range with start, end and step\n",
    "np.arange(10, 1000, 90)"
   ]
  },
  {
   "cell_type": "code",
   "execution_count": null,
   "id": "d8999061-0d9a-42ba-9f3b-2214b0b09d00",
   "metadata": {},
   "outputs": [],
   "source": [
    "# Equally spaced numbers in a range\n",
    "np.linspace(3, 270, 6)"
   ]
  },
  {
   "cell_type": "code",
   "execution_count": null,
   "id": "3961f171-0dab-453e-939f-d51b150f51e8",
   "metadata": {},
   "outputs": [],
   "source": [
    "# Install the library \n",
    "!pip install jovian --upgrade --quiet"
   ]
  },
  {
   "cell_type": "code",
   "execution_count": null,
   "id": "702f7eed-ef60-4674-b56b-3f433375b8b1",
   "metadata": {},
   "outputs": [],
   "source": [
    "import jovian"
   ]
  },
  {
   "cell_type": "code",
   "execution_count": null,
   "id": "7bf47daa-35e0-4105-8507-ee9ae7cfcb95",
   "metadata": {},
   "outputs": [],
   "source": [
    "jovian.commit(filename='lesson3.ipynb', environment=None)"
   ]
  },
  {
   "cell_type": "markdown",
   "id": "d7ea3d85-a847-4f5c-9644-7d8d51ff577e",
   "metadata": {},
   "source": [
    "## Interacting with the OS and filesystem"
   ]
  },
  {
   "cell_type": "code",
   "execution_count": 4,
   "id": "e16cc3f4-8202-4292-b984-202e590ff8bd",
   "metadata": {},
   "outputs": [],
   "source": [
    "import os"
   ]
  },
  {
   "cell_type": "code",
   "execution_count": null,
   "id": "ffc575a1-e2bb-497f-adfe-2c5b89922e37",
   "metadata": {},
   "outputs": [],
   "source": [
    "os.getcwd()"
   ]
  },
  {
   "cell_type": "code",
   "execution_count": null,
   "id": "b658b348-4d9d-48ac-aee9-3b462a83ede2",
   "metadata": {},
   "outputs": [],
   "source": [
    "os.listdir('.') # relative path"
   ]
  },
  {
   "cell_type": "code",
   "execution_count": null,
   "id": "582fc312-44c7-454f-a2e9-0fc87dff1613",
   "metadata": {},
   "outputs": [],
   "source": [
    "os.listdir('C:\\\\Users\\\\91962\\\\Desktop') "
   ]
  },
  {
   "cell_type": "code",
   "execution_count": null,
   "id": "523fd928-acf0-4d75-81af-ab122fc0478f",
   "metadata": {},
   "outputs": [],
   "source": [
    "os.makedirs('./data', exist_ok=True)"
   ]
  },
  {
   "cell_type": "code",
   "execution_count": null,
   "id": "79b5b0dd-4400-4fca-8414-e2ab4bde28c9",
   "metadata": {},
   "outputs": [],
   "source": [
    "'data' in os.listdir('.')"
   ]
  },
  {
   "cell_type": "code",
   "execution_count": null,
   "id": "d6fe6799-de90-48ca-9b77-10d9b06bbadc",
   "metadata": {},
   "outputs": [],
   "source": [
    "os.listdir('./data')"
   ]
  },
  {
   "cell_type": "markdown",
   "id": "b1ca8629-dbbd-4010-a639-8454607f391c",
   "metadata": {},
   "source": [
    "Let us download some files into the `data` directory using the `urllib` module."
   ]
  },
  {
   "cell_type": "code",
   "execution_count": null,
   "id": "13bf34dd-90e6-4efb-9233-dd64a9decbc3",
   "metadata": {},
   "outputs": [],
   "source": [
    "url1 = 'https://gist.githubusercontent.com/aakashns/257f6e6c8719c17d0e498ea287d1a386/raw/7def9ef4234ddf0bc82f855ad67dac8b971852ef/loans1.txt'\n",
    "url2 = 'https://gist.githubusercontent.com/aakashns/257f6e6c8719c17d0e498ea287d1a386/raw/7def9ef4234ddf0bc82f855ad67dac8b971852ef/loans2.txt'\n",
    "url3 = 'https://gist.githubusercontent.com/aakashns/257f6e6c8719c17d0e498ea287d1a386/raw/7def9ef4234ddf0bc82f855ad67dac8b971852ef/loans3.txt'"
   ]
  },
  {
   "cell_type": "code",
   "execution_count": 5,
   "id": "59ebc8a7-4871-4e52-90dc-38007ad4a940",
   "metadata": {},
   "outputs": [],
   "source": [
    "from urllib.request import urlretrieve"
   ]
  },
  {
   "cell_type": "code",
   "execution_count": null,
   "id": "9e8b6362-f682-479f-b991-641bba58a58f",
   "metadata": {},
   "outputs": [],
   "source": [
    "urlretrieve(url1, './data/loans1.txt')"
   ]
  },
  {
   "cell_type": "code",
   "execution_count": null,
   "id": "97866cb0-4a76-4bf4-b401-595e84d26bfb",
   "metadata": {},
   "outputs": [],
   "source": [
    "urlretrieve(url2, './data/loans2.txt')"
   ]
  },
  {
   "cell_type": "code",
   "execution_count": null,
   "id": "354a5ff3-14bf-48d5-ab0d-345eb5aba6b5",
   "metadata": {},
   "outputs": [],
   "source": [
    "urlretrieve(url3, './data/loans3.txt')"
   ]
  },
  {
   "cell_type": "code",
   "execution_count": null,
   "id": "0a989af1-efae-4f2a-bd61-ec31e949332c",
   "metadata": {},
   "outputs": [],
   "source": [
    "os.listdir('./data')"
   ]
  },
  {
   "cell_type": "markdown",
   "id": "d117511c-f0f0-4eac-b22b-83021ca8b9c7",
   "metadata": {},
   "source": [
    "## Reading from a file \n",
    "\n",
    "To read the contents of a file, we first need to open the file using the built-in `open` function. The `open` function returns a file object and provides several methods for interacting with the file's contents."
   ]
  },
  {
   "cell_type": "code",
   "execution_count": null,
   "id": "505038bc-d5a4-4f74-8180-c3f330d1d264",
   "metadata": {},
   "outputs": [],
   "source": [
    "jovian.commit(filename='lesson3.ipynb', environment=None)"
   ]
  },
  {
   "cell_type": "code",
   "execution_count": null,
   "id": "851cf9d3-7f55-4666-b84c-f21f53746a86",
   "metadata": {},
   "outputs": [],
   "source": [
    "file1 = open('./data/loans1.txt', mode='r')"
   ]
  },
  {
   "cell_type": "code",
   "execution_count": null,
   "id": "50eaaee9-81b4-4fd5-a779-64bcc2e8509a",
   "metadata": {},
   "outputs": [],
   "source": [
    "file1"
   ]
  },
  {
   "cell_type": "code",
   "execution_count": null,
   "id": "50c197c5-00d3-4d2b-aa69-fb69c1274618",
   "metadata": {},
   "outputs": [],
   "source": [
    "file1_contents = file1.read()"
   ]
  },
  {
   "cell_type": "code",
   "execution_count": null,
   "id": "a410a9dc-9dca-41bc-8f1d-d5fb6e932cff",
   "metadata": {},
   "outputs": [],
   "source": [
    "file1_contents\n"
   ]
  },
  {
   "cell_type": "code",
   "execution_count": null,
   "id": "f68b5c04-9d14-45ae-a417-2363d2e07058",
   "metadata": {},
   "outputs": [],
   "source": [
    "print(file1_contents)"
   ]
  },
  {
   "cell_type": "code",
   "execution_count": null,
   "id": "549324bb-8851-428e-b9ba-61797e575cbc",
   "metadata": {},
   "outputs": [],
   "source": [
    "file1.close()"
   ]
  },
  {
   "cell_type": "code",
   "execution_count": null,
   "id": "c13e5499-af28-4378-a806-429555747144",
   "metadata": {},
   "outputs": [],
   "source": [
    "file1.read()"
   ]
  },
  {
   "cell_type": "code",
   "execution_count": null,
   "id": "b9c59ed3-30aa-4a63-8de9-9e6bd962ee75",
   "metadata": {},
   "outputs": [],
   "source": [
    "with open('./data/loans2.txt') as file2:\n",
    "    file2_contents = file2.read()\n",
    "    print(file2_contents)"
   ]
  },
  {
   "cell_type": "code",
   "execution_count": null,
   "id": "bc4a5cc1-14be-4f95-9c9d-e39f5f6f0afc",
   "metadata": {},
   "outputs": [],
   "source": [
    "file2.read()"
   ]
  },
  {
   "cell_type": "code",
   "execution_count": null,
   "id": "d43d9242-1b5d-4843-b961-96ec500217c7",
   "metadata": {},
   "outputs": [],
   "source": [
    "with open('./data/loans3.txt', 'r') as file3:\n",
    "    file3_lines = file3.readlines()"
   ]
  },
  {
   "cell_type": "code",
   "execution_count": null,
   "id": "c840ba6e-d3de-49d0-b7a6-c1b74941f52b",
   "metadata": {},
   "outputs": [],
   "source": [
    "file3_lines"
   ]
  },
  {
   "cell_type": "code",
   "execution_count": null,
   "id": "af012734-5274-4ceb-ab2e-c23ec68b385c",
   "metadata": {},
   "outputs": [],
   "source": [
    "file3_lines[0].strip()"
   ]
  },
  {
   "cell_type": "code",
   "execution_count": null,
   "id": "b8f755c1-28f0-4bfc-a779-28142cf117ea",
   "metadata": {},
   "outputs": [],
   "source": [
    "def parse_headers(header_line):\n",
    "    return header_line.strip().split(',')"
   ]
  },
  {
   "cell_type": "code",
   "execution_count": null,
   "id": "32b6ba61-da57-4c95-88b9-cc2d11ca4d46",
   "metadata": {},
   "outputs": [],
   "source": [
    "file3_lines[0]"
   ]
  },
  {
   "cell_type": "code",
   "execution_count": null,
   "id": "673fec70-38bd-47e4-b80d-c0f114a7dd9c",
   "metadata": {},
   "outputs": [],
   "source": [
    "headers = parse_headers(file3_lines[0])"
   ]
  },
  {
   "cell_type": "code",
   "execution_count": null,
   "id": "8cb04262-5443-4205-8049-8f822ddda486",
   "metadata": {},
   "outputs": [],
   "source": [
    "headers"
   ]
  },
  {
   "cell_type": "code",
   "execution_count": null,
   "id": "c2ed0400-ee7f-480b-8f3b-f0e0f60e07df",
   "metadata": {},
   "outputs": [],
   "source": [
    "def parse_values(data_line):\n",
    "    values = []\n",
    "    for item in data_line.strip().split(','):\n",
    "        values.append(float(item))\n",
    "    return values"
   ]
  },
  {
   "cell_type": "code",
   "execution_count": null,
   "id": "baf30363-fc14-4625-b1c3-25137c114397",
   "metadata": {},
   "outputs": [],
   "source": [
    "file3_lines[1]"
   ]
  },
  {
   "cell_type": "code",
   "execution_count": null,
   "id": "f6db1ea4-9fa3-4ba7-b791-41efe80b1a53",
   "metadata": {},
   "outputs": [],
   "source": [
    "parse_values(file3_lines[1])"
   ]
  },
  {
   "cell_type": "code",
   "execution_count": null,
   "id": "c487e5d3-ed22-439d-8701-e5f5a86d3247",
   "metadata": {},
   "outputs": [],
   "source": [
    "file3_lines[2]"
   ]
  },
  {
   "cell_type": "code",
   "execution_count": null,
   "id": "8c7169e0-56f5-4d70-9339-3b3fa9afe2fb",
   "metadata": {},
   "outputs": [],
   "source": [
    "def parse_values(data_line):\n",
    "    values = []\n",
    "    for item in data_line.strip().split(','):\n",
    "        if item == '':\n",
    "            values.append(0.0)\n",
    "        else:\n",
    "            try:\n",
    "                values.append(float(item))\n",
    "            except ValueError:\n",
    "                values.append(item)\n",
    "    return values"
   ]
  },
  {
   "cell_type": "code",
   "execution_count": null,
   "id": "60d39880-48e2-434b-b5ff-cb2542aded23",
   "metadata": {},
   "outputs": [],
   "source": [
    "file3_lines[2]"
   ]
  },
  {
   "cell_type": "code",
   "execution_count": null,
   "id": "71c2d61a-1c91-4792-aa5e-424e9c1b174e",
   "metadata": {},
   "outputs": [],
   "source": [
    "parse_values(file3_lines[2])"
   ]
  },
  {
   "cell_type": "code",
   "execution_count": null,
   "id": "534c89ab-5175-43ce-ac7c-e66a6899a45b",
   "metadata": {},
   "outputs": [],
   "source": [
    "def create_item_dict(values, headers):\n",
    "    result = {}\n",
    "    for value, header in zip(values, headers):\n",
    "        result[header] = value\n",
    "    return result"
   ]
  },
  {
   "cell_type": "code",
   "execution_count": null,
   "id": "4c92753d-f3b0-411d-b2d0-23d226a6d20b",
   "metadata": {},
   "outputs": [],
   "source": [
    "for item in zip([1,2,3], ['a', 'b', 'c']):\n",
    "    print(item)"
   ]
  },
  {
   "cell_type": "code",
   "execution_count": null,
   "id": "9a4e938d-c0d1-42d3-8cd0-83ecc27bfd1c",
   "metadata": {},
   "outputs": [],
   "source": [
    "file3_lines[1]"
   ]
  },
  {
   "cell_type": "code",
   "execution_count": null,
   "id": "fb045f7b-b24e-41ac-9545-c05c105967fa",
   "metadata": {},
   "outputs": [],
   "source": [
    "values1 = parse_values(file3_lines[1])\n",
    "create_item_dict(values1, headers)"
   ]
  },
  {
   "cell_type": "code",
   "execution_count": null,
   "id": "da039bbe-985c-41f3-9ece-3ef31cfe1cf4",
   "metadata": {},
   "outputs": [],
   "source": [
    "file3_lines[2]"
   ]
  },
  {
   "cell_type": "code",
   "execution_count": null,
   "id": "abaad5dc-5717-4f73-a4ef-e517ffe1b181",
   "metadata": {},
   "outputs": [],
   "source": [
    "values2 = parse_values(file3_lines[2])\n",
    "create_item_dict(values2, headers)"
   ]
  },
  {
   "cell_type": "code",
   "execution_count": null,
   "id": "e90f9d9b-1262-4597-98f0-5a74a4af70c7",
   "metadata": {},
   "outputs": [],
   "source": [
    "def read_csv(path):\n",
    "    result = []\n",
    "    # Open the file in read mode\n",
    "    with open(path, 'r') as f:\n",
    "        # Get a list of lines\n",
    "        lines = f.readlines()\n",
    "        # Parse the header\n",
    "        headers = parse_headers(lines[0])\n",
    "        # Loop over the remaining lines\n",
    "        for data_line in lines[1:]:\n",
    "            # Parse the values\n",
    "            values = parse_values(data_line)\n",
    "            # Create a dictionary using values & headers\n",
    "            item_dict = create_item_dict(values, headers)\n",
    "            # Add the dictionary to the result\n",
    "            result.append(item_dict)\n",
    "    return result"
   ]
  },
  {
   "cell_type": "code",
   "execution_count": null,
   "id": "1765b557-27db-4732-b7e2-efd8f90cdb53",
   "metadata": {},
   "outputs": [],
   "source": [
    "with open('./data/loans2.txt') as file2:\n",
    "    print(file2.read())"
   ]
  },
  {
   "cell_type": "code",
   "execution_count": null,
   "id": "695bb0e9-e0e6-4ba3-8d64-a87b9b7c545e",
   "metadata": {},
   "outputs": [],
   "source": [
    "read_csv('./data/loans2.txt')"
   ]
  },
  {
   "cell_type": "code",
   "execution_count": 6,
   "id": "c351ba72-fa4a-472b-8d1c-32f85299a1d2",
   "metadata": {},
   "outputs": [],
   "source": [
    "def parse_headers(header_line):\n",
    "    return header_line.strip().split(',')\n",
    "\n",
    "def parse_values(data_line):\n",
    "    values = []\n",
    "    for item in data_line.strip().split(','):\n",
    "        if item == '':\n",
    "            values.append(0.0)\n",
    "        else:\n",
    "            try:\n",
    "                values.append(float(item))\n",
    "            except ValueError:\n",
    "                values.append(item)\n",
    "    return values\n",
    "\n",
    "def create_item_dict(values, headers):\n",
    "    result = {}\n",
    "    for value, header in zip(values, headers):\n",
    "        result[header] = value\n",
    "    return result\n",
    "\n",
    "def read_csv(path):\n",
    "    result = []\n",
    "    # Open the file in read mode\n",
    "    with open(path, 'r') as f:\n",
    "        # Get a list of lines\n",
    "        lines = f.readlines()\n",
    "        # Parse the header\n",
    "        headers = parse_headers(lines[0])\n",
    "        # Loop over the remaining lines\n",
    "        for data_line in lines[1:]:\n",
    "            # Parse the values\n",
    "            values = parse_values(data_line)\n",
    "            # Create a dictionary using values & headers\n",
    "            item_dict = create_item_dict(values, headers)\n",
    "            # Add the dictionary to the result\n",
    "            result.append(item_dict)\n",
    "    return result"
   ]
  },
  {
   "cell_type": "code",
   "execution_count": 7,
   "id": "0ad6ad85-df97-43c6-85bc-bac4c2d19cc7",
   "metadata": {},
   "outputs": [],
   "source": [
    "import math\n",
    "\n",
    "def loan_emi(amount, duration, rate, down_payment=0):\n",
    "    \"\"\"Calculates the equal montly installment (EMI) for a loan.\n",
    "    \n",
    "    Arguments:\n",
    "        amount - Total amount to be spent (loan + down payment)\n",
    "        duration - Duration of the loan (in months)\n",
    "        rate - Rate of interest (monthly)\n",
    "        down_payment (optional) - Optional intial payment (deducted from amount)\n",
    "    \"\"\"\n",
    "    loan_amount = amount - down_payment\n",
    "    try:\n",
    "        emi = loan_amount * rate * ((1+rate)**duration) / (((1+rate)**duration)-1)\n",
    "    except ZeroDivisionError:\n",
    "        emi = loan_amount / duration\n",
    "    emi = math.ceil(emi)\n",
    "    return emi"
   ]
  },
  {
   "cell_type": "code",
   "execution_count": null,
   "id": "e8ab75d1-9576-42c4-ab2d-f48dd80cbcc8",
   "metadata": {},
   "outputs": [],
   "source": [
    "loans2 = read_csv('./data/loans2.txt')"
   ]
  },
  {
   "cell_type": "code",
   "execution_count": null,
   "id": "50d7c20b-b6af-4666-9d5c-1108b4fd08ec",
   "metadata": {},
   "outputs": [],
   "source": [
    "loans2"
   ]
  },
  {
   "cell_type": "code",
   "execution_count": null,
   "id": "5b8fe7a1-7478-499e-850f-d616cbcf7ce6",
   "metadata": {},
   "outputs": [],
   "source": [
    "for loan in loans2:\n",
    "    loan['emi'] = loan_emi(loan['amount'], \n",
    "                           loan['duration'], \n",
    "                           loan['rate']/12, # the CSV contains yearly rates\n",
    "                           loan['down_payment'])"
   ]
  },
  {
   "cell_type": "code",
   "execution_count": null,
   "id": "6e7f691f-af2f-4dce-88c7-8e6537013c48",
   "metadata": {},
   "outputs": [],
   "source": [
    "loans2"
   ]
  },
  {
   "cell_type": "code",
   "execution_count": 10,
   "id": "bb53d4d1-74e2-446e-914d-ad5e93ab02b3",
   "metadata": {},
   "outputs": [],
   "source": [
    "def compute_emis(loans):\n",
    "    for loan in loans:\n",
    "        loan['emi'] = loan_emi(\n",
    "            loan['amount'], \n",
    "            loan['duration'], \n",
    "            loan['rate']/12, # the CSV contains yearly rates\n",
    "            loan['down_payment'])"
   ]
  },
  {
   "cell_type": "code",
   "execution_count": null,
   "id": "8ada42aa-e762-48bb-a669-a5be94ad3521",
   "metadata": {},
   "outputs": [],
   "source": [
    "jovian.commit(filename='lesson3.ipynb', environment=None)"
   ]
  },
  {
   "cell_type": "markdown",
   "id": "dcc46f31-fa27-40e7-9d6c-9c4137398a12",
   "metadata": {},
   "source": [
    "## Writing to files\n",
    "\n",
    "Now that we have performed some processing on the data, it would be good to write the results back to a CSV file. We can create/open a file in `w` mode using `open` and write to it using the `.write` method. The string `format` method will come in handy here."
   ]
  },
  {
   "cell_type": "code",
   "execution_count": 8,
   "id": "219ae1ea-41fe-4b80-b43b-f5a6b2ef37bb",
   "metadata": {},
   "outputs": [],
   "source": [
    "loans2 = read_csv('./data/loans2.txt')"
   ]
  },
  {
   "cell_type": "code",
   "execution_count": 11,
   "id": "b4dcdd55-585c-4aa6-b8a0-8258389087f0",
   "metadata": {},
   "outputs": [],
   "source": [
    "compute_emis(loans2)"
   ]
  },
  {
   "cell_type": "code",
   "execution_count": 12,
   "id": "11d4bba0-d016-4a78-b616-881799cea0f3",
   "metadata": {},
   "outputs": [
    {
     "data": {
      "text/plain": [
       "[{'amount': 828400.0,\n",
       "  'duration': 120.0,\n",
       "  'rate': 0.11,\n",
       "  'down_payment': 100000.0,\n",
       "  'emi': 10034},\n",
       " {'amount': 4633400.0,\n",
       "  'duration': 240.0,\n",
       "  'rate': 0.06,\n",
       "  'down_payment': 0.0,\n",
       "  'emi': 33196},\n",
       " {'amount': 42900.0,\n",
       "  'duration': 90.0,\n",
       "  'rate': 0.08,\n",
       "  'down_payment': 8900.0,\n",
       "  'emi': 504},\n",
       " {'amount': 983000.0,\n",
       "  'duration': 16.0,\n",
       "  'rate': 0.14,\n",
       "  'down_payment': 0.0,\n",
       "  'emi': 67707},\n",
       " {'amount': 15230.0,\n",
       "  'duration': 48.0,\n",
       "  'rate': 0.07,\n",
       "  'down_payment': 4300.0,\n",
       "  'emi': 262}]"
      ]
     },
     "execution_count": 12,
     "metadata": {},
     "output_type": "execute_result"
    }
   ],
   "source": [
    "loans2"
   ]
  },
  {
   "cell_type": "code",
   "execution_count": 13,
   "id": "d3840c70-c493-429d-838a-fae4cf7fb057",
   "metadata": {},
   "outputs": [],
   "source": [
    "with open('./data/emis2.txt', 'w') as f:\n",
    "    for loan in loans2:\n",
    "        f.write('{},{},{},{},{}\\n'.format(\n",
    "            loan['amount'], \n",
    "            loan['duration'], \n",
    "            loan['rate'], \n",
    "            loan['down_payment'], \n",
    "            loan['emi']))"
   ]
  },
  {
   "cell_type": "code",
   "execution_count": 14,
   "id": "cba6cf6e-a4ee-4c82-9453-9bb0c67a20ed",
   "metadata": {},
   "outputs": [
    {
     "data": {
      "text/plain": [
       "['emis2.txt', 'loans1.txt', 'loans2.txt', 'loans3.txt']"
      ]
     },
     "execution_count": 14,
     "metadata": {},
     "output_type": "execute_result"
    }
   ],
   "source": [
    "os.listdir('data')"
   ]
  },
  {
   "cell_type": "code",
   "execution_count": 15,
   "id": "e6ceb302-99a5-4d78-8bb0-32a6f0760d96",
   "metadata": {},
   "outputs": [
    {
     "name": "stdout",
     "output_type": "stream",
     "text": [
      "828400.0,120.0,0.11,100000.0,10034\n",
      "4633400.0,240.0,0.06,0.0,33196\n",
      "42900.0,90.0,0.08,8900.0,504\n",
      "983000.0,16.0,0.14,0.0,67707\n",
      "15230.0,48.0,0.07,4300.0,262\n",
      "\n"
     ]
    }
   ],
   "source": [
    "with open('./data/emis2.txt', 'r') as f:\n",
    "    print(f.read())"
   ]
  },
  {
   "cell_type": "code",
   "execution_count": 16,
   "id": "ceaf48fc-3642-45ff-9ed2-9550fa3319fe",
   "metadata": {},
   "outputs": [],
   "source": [
    "def write_csv(items, path):\n",
    "    # Open the file in write mode\n",
    "    with open(path, 'w') as f:\n",
    "        # Return if there's nothing to write\n",
    "        if len(items) == 0:\n",
    "            return\n",
    "        \n",
    "        # Write the headers in the first line\n",
    "        headers = list(items[0].keys())\n",
    "        f.write(','.join(headers) + '\\n')\n",
    "        \n",
    "        # Write one item per line\n",
    "        for item in items:\n",
    "            values = []\n",
    "            for header in headers:\n",
    "                values.append(str(item.get(header, \"\")))\n",
    "            f.write(','.join(values) + \"\\n\")"
   ]
  },
  {
   "cell_type": "code",
   "execution_count": 17,
   "id": "a1bce0d2-a121-4835-b39c-09f38ed4eb5e",
   "metadata": {},
   "outputs": [],
   "source": [
    "loans3 = read_csv('./data/loans3.txt')"
   ]
  },
  {
   "cell_type": "code",
   "execution_count": 18,
   "id": "6f43265d-9f1a-4001-8977-364df9a999dd",
   "metadata": {},
   "outputs": [],
   "source": [
    "compute_emis(loans3)"
   ]
  },
  {
   "cell_type": "code",
   "execution_count": 19,
   "id": "c1b8794f-7ded-4c07-b1a5-fe2d2d5c46a2",
   "metadata": {},
   "outputs": [],
   "source": [
    "write_csv(loans3, './data/emis3.txt')"
   ]
  },
  {
   "cell_type": "code",
   "execution_count": 20,
   "id": "922cac61-1157-4842-866b-cb8e86b66785",
   "metadata": {},
   "outputs": [
    {
     "name": "stdout",
     "output_type": "stream",
     "text": [
      "amount,duration,rate,down_payment,emi\n",
      "45230.0,48.0,0.07,4300.0,981\n",
      "883000.0,16.0,0.14,0.0,60819\n",
      "100000.0,12.0,0.1,0.0,8792\n",
      "728400.0,120.0,0.12,100000.0,9016\n",
      "3637400.0,240.0,0.06,0.0,26060\n",
      "82900.0,90.0,0.07,8900.0,1060\n",
      "316000.0,16.0,0.13,0.0,21618\n",
      "15230.0,48.0,0.08,4300.0,267\n",
      "991360.0,99.0,0.08,0.0,13712\n",
      "323000.0,27.0,0.09,4720010000.0,-193751447\n",
      "528400.0,120.0,0.11,100000.0,5902\n",
      "8633400.0,240.0,0.06,0.0,61853\n",
      "12900.0,90.0,0.08,8900.0,60\n",
      "\n"
     ]
    }
   ],
   "source": [
    "with open('./data/emis3.txt', 'r') as f:\n",
    "    print(f.read())"
   ]
  },
  {
   "cell_type": "code",
   "execution_count": 21,
   "id": "a4af942f-cebc-4475-bd9f-c0fd3fc40627",
   "metadata": {},
   "outputs": [],
   "source": [
    "for i in range(1,4):\n",
    "    loans = read_csv('./data/loans{}.txt'.format(i))\n",
    "    compute_emis(loans)\n",
    "    write_csv(loans, './data/emis{}.txt'.format(i))"
   ]
  },
  {
   "cell_type": "code",
   "execution_count": 22,
   "id": "0d22bf08-522a-4f76-a387-2f648e386fc3",
   "metadata": {},
   "outputs": [
    {
     "data": {
      "text/plain": [
       "['emis1.txt',\n",
       " 'emis2.txt',\n",
       " 'emis3.txt',\n",
       " 'loans1.txt',\n",
       " 'loans2.txt',\n",
       " 'loans3.txt']"
      ]
     },
     "execution_count": 22,
     "metadata": {},
     "output_type": "execute_result"
    }
   ],
   "source": [
    "os.listdir('./data')"
   ]
  },
  {
   "cell_type": "code",
   "execution_count": 26,
   "id": "ba7a289a-0b04-4382-aacc-f5b7c34a049a",
   "metadata": {},
   "outputs": [
    {
     "data": {
      "application/javascript": [
       "window.require && require([\"base/js/namespace\"],function(Jupyter){Jupyter.notebook.save_checkpoint()})"
      ],
      "text/plain": [
       "<IPython.core.display.Javascript object>"
      ]
     },
     "metadata": {},
     "output_type": "display_data"
    },
    {
     "name": "stdout",
     "output_type": "stream",
     "text": [
      "[jovian] Updating notebook \"thehimanshutiwari/lesson3\" on https://jovian.ai/\u001b[0m\n",
      "[jovian] Committed successfully! https://jovian.ai/thehimanshutiwari/lesson3\u001b[0m\n"
     ]
    },
    {
     "data": {
      "text/plain": [
       "'https://jovian.ai/thehimanshutiwari/lesson3'"
      ]
     },
     "execution_count": 26,
     "metadata": {},
     "output_type": "execute_result"
    }
   ],
   "source": [
    "jovian.commit(filename='lesson3.ipynb', environment=None)"
   ]
  },
  {
   "cell_type": "code",
   "execution_count": null,
   "id": "bb3355fd-b6ae-49b4-b5a4-c366f7566573",
   "metadata": {},
   "outputs": [],
   "source": []
  }
 ],
 "metadata": {
  "kernelspec": {
   "display_name": "Python 3",
   "language": "python",
   "name": "python3"
  },
  "language_info": {
   "codemirror_mode": {
    "name": "ipython",
    "version": 3
   },
   "file_extension": ".py",
   "mimetype": "text/x-python",
   "name": "python",
   "nbconvert_exporter": "python",
   "pygments_lexer": "ipython3",
   "version": "3.7.9"
  }
 },
 "nbformat": 4,
 "nbformat_minor": 5
}
