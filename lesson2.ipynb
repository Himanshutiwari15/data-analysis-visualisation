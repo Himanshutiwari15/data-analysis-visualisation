{
 "cells": [
  {
   "cell_type": "markdown",
   "id": "a8dd04bd-49b7-4861-b32f-14fcdaa152fd",
   "metadata": {},
   "source": [
    "# Lesson2"
   ]
  },
  {
   "cell_type": "markdown",
   "id": "68a1437e-40c5-46bf-a6db-bd2c057e1d81",
   "metadata": {},
   "source": [
    "### if statement"
   ]
  },
  {
   "cell_type": "code",
   "execution_count": null,
   "id": "8bcd008b-fd6d-48d9-8353-a02882c2265d",
   "metadata": {},
   "outputs": [],
   "source": [
    "num = 23\n",
    "if num % 3 != 0:\n",
    "    print('yaaay {} is not % of 3' .format(num))"
   ]
  },
  {
   "cell_type": "markdown",
   "id": "dab56929-9557-4e32-9322-ae72dde11e58",
   "metadata": {},
   "source": [
    "### else statement"
   ]
  },
  {
   "cell_type": "code",
   "execution_count": null,
   "id": "b3eff019-efc4-4b27-a5ef-910567d1b6b7",
   "metadata": {},
   "outputs": [],
   "source": [
    "nume = 22\n",
    "if nume % 2 != 0:\n",
    "    print('yaaay {} is not % of 2' .format(nume))\n",
    "else:\n",
    "    print('yaaay {} is % of 2'.format(nume))"
   ]
  },
  {
   "cell_type": "code",
   "execution_count": null,
   "id": "f1acb928-95c5-4bf5-a223-3fe156b5062c",
   "metadata": {},
   "outputs": [],
   "source": [
    "names = ['a','aa','aaa']\n",
    "me = 'hima'\n",
    "if me in names:\n",
    "    print('yaaay {} i am in {}'.format(me,names))\n",
    "else:\n",
    "    print('noooo {} is not in {}'.format(me,names))"
   ]
  },
  {
   "cell_type": "markdown",
   "id": "4888d697-c5e6-46d2-b42c-284d2af0ad29",
   "metadata": {},
   "source": [
    "### elif statement"
   ]
  },
  {
   "cell_type": "code",
   "execution_count": null,
   "id": "d855d880-9b6f-4ab2-88df-50b9d9e62ce7",
   "metadata": {},
   "outputs": [],
   "source": [
    "today = 'Monday'\n",
    "if today == 'Sunday':\n",
    "    print(\"Today is the day of the sun.\")\n",
    "elif today == 'Monday':\n",
    "    print(\"Today is the day of the moon.\")\n",
    "elif today == 'Tuesday':\n",
    "    print(\"Today is the day of Tyr, the god of war.\")\n",
    "elif today == 'Wednesday':\n",
    "    print(\"Today is the day of Odin, the supreme diety.\")\n",
    "elif today == 'Thursday':\n",
    "    print(\"Today is the day of Thor, the god of thunder.\")\n",
    "elif today == 'Friday':\n",
    "    print(\"Today is the day of Frigga, the goddess of beauty.\")\n",
    "elif today == 'Saturday':\n",
    "    print(\"Today is the day of Saturn, the god of fun and feasting.\")"
   ]
  },
  {
   "cell_type": "markdown",
   "id": "67cd211e-7306-48d3-baa4-e1f1762ce4d6",
   "metadata": {},
   "source": [
    "### Iteration with while loops"
   ]
  },
  {
   "cell_type": "code",
   "execution_count": null,
   "id": "fa701579-b0bf-49e4-ae81-88ef43d887c1",
   "metadata": {},
   "outputs": [],
   "source": [
    "%%time\n",
    "result = 1\n",
    "i =1\n",
    "while i<=100:\n",
    "    result = result*i\n",
    "    i=i+1\n",
    "\n",
    "print('the factorial of 100 is: {}'.format(result))"
   ]
  },
  {
   "cell_type": "markdown",
   "id": "9bac9458-a99b-42fd-b101-39387ff83a35",
   "metadata": {},
   "source": [
    "## Pattern"
   ]
  },
  {
   "cell_type": "code",
   "execution_count": 4,
   "id": "f439cf82-49c4-4f2b-a206-b71dd4ae1a4b",
   "metadata": {},
   "outputs": [
    {
     "name": "stdout",
     "output_type": "stream",
     "text": [
      "*\n",
      "**\n",
      "***\n",
      "****\n",
      "*****\n",
      "******\n",
      "*******\n",
      "********\n",
      "*********\n",
      "**********\n",
      "***********\n",
      "**********\n",
      "*********\n",
      "********\n",
      "*******\n",
      "******\n",
      "*****\n",
      "****\n",
      "***\n",
      "**\n",
      "*\n"
     ]
    }
   ],
   "source": [
    "line = '*'\n",
    "max_length = 10\n",
    "\n",
    "while len(line) <= max_length:\n",
    "    print(line)\n",
    "    line += \"*\"\n",
    "    \n",
    "while len(line) > 0:\n",
    "    print(line)\n",
    "    line = line[:-1]"
   ]
  },
  {
   "cell_type": "markdown",
   "id": "42c4c84a-6d06-4ee8-9efe-73b3849e6e52",
   "metadata": {},
   "source": [
    "### For Loop"
   ]
  },
  {
   "cell_type": "code",
   "execution_count": 8,
   "id": "c26c3307-1b4f-40e3-89e8-cdc7251217ac",
   "metadata": {},
   "outputs": [
    {
     "name": "stdout",
     "output_type": "stream",
     "text": [
      "qw\n",
      "qwe\n",
      "wer\n",
      "ere\n"
     ]
    }
   ],
   "source": [
    "pants = ['qw','qwe','wer','ere']\n",
    "for pant in pants:\n",
    "    print(pant)"
   ]
  },
  {
   "cell_type": "code",
   "execution_count": 18,
   "id": "9f4fb933-bb89-4340-a7d3-f22ddd3681f3",
   "metadata": {},
   "outputs": [
    {
     "name": "stdout",
     "output_type": "stream",
     "text": [
      "num 1\n",
      "name asd\n"
     ]
    }
   ],
   "source": [
    "shirts = dict(num=1,name='asd')\n",
    "for shirt in shirts:\n",
    "    print(shirt,shirts[shirt])"
   ]
  },
  {
   "cell_type": "code",
   "execution_count": 26,
   "id": "272b00ec-8487-43bf-b107-6b489897804a",
   "metadata": {},
   "outputs": [
    {
     "name": "stdout",
     "output_type": "stream",
     "text": [
      "0\n",
      "1\n",
      "2\n",
      "3\n",
      "4\n",
      "5\n",
      "6\n",
      "7\n",
      "8\n",
      "9\n",
      "\n",
      "1\n",
      "2\n",
      "3\n",
      "4\n",
      "\n",
      "1\n",
      "6\n",
      "11\n",
      "16\n",
      "\n",
      "0 in a\n",
      "1 in b\n",
      "2 in c\n",
      "3 in d\n",
      "4 in e\n"
     ]
    }
   ],
   "source": [
    "for i in range(10):\n",
    "    print(i)\n",
    "\n",
    "print()\n",
    "for i in range(1,5):\n",
    "    print(i)\n",
    "\n",
    "print()\n",
    "for i in range(1,20,5):\n",
    "    print(i)\n",
    "\n",
    "print()\n",
    "see = ['a','b','c','d','e']\n",
    "for se in range(len(see)):\n",
    "    print('{} in {}'.format(se,see[se]))"
   ]
  },
  {
   "cell_type": "markdown",
   "id": "3bbe6b04-6afa-4094-8ad1-3015653e9f7b",
   "metadata": {},
   "source": [
    "## FUNTIONS"
   ]
  },
  {
   "cell_type": "code",
   "execution_count": 28,
   "id": "c0948c41-6c54-4af6-b26b-32524ece57b9",
   "metadata": {},
   "outputs": [
    {
     "name": "stdout",
     "output_type": "stream",
     "text": [
      "[2, 4, 6, 8, 10]\n"
     ]
    }
   ],
   "source": [
    "listofnumbers =[1,2,3,4,5,6,7,8,9,10]\n",
    "def evennumbers():\n",
    "    evenlist = []\n",
    "    for i in listofnumbers:\n",
    "        if i%2 ==0:\n",
    "            evenlist.append(i)\n",
    "    return evenlist\n",
    "\n",
    "print(evennumbers())"
   ]
  },
  {
   "cell_type": "markdown",
   "id": "9935e52d-273e-4190-ac9c-fa48ade00b2f",
   "metadata": {},
   "source": [
    "### TRY & EXCEPT"
   ]
  },
  {
   "cell_type": "code",
   "execution_count": 29,
   "id": "cb1422fa-de56-4a8f-904e-e603fc58aa10",
   "metadata": {},
   "outputs": [
    {
     "name": "stdout",
     "output_type": "stream",
     "text": [
      "Now computing the result..\n",
      "Failed to compute result because you were trying to divide by zero\n",
      "None\n"
     ]
    }
   ],
   "source": [
    "try:\n",
    "    print(\"Now computing the result..\")\n",
    "    result = 5 / 0\n",
    "    print(\"Computation was completed successfully\")\n",
    "except ZeroDivisionError:\n",
    "    print(\"Failed to compute result because you were trying to divide by zero\")\n",
    "    result = None\n",
    "\n",
    "print(result)"
   ]
  },
  {
   "cell_type": "markdown",
   "id": "76dfbd16-9bae-4b30-a838-b636c3dba989",
   "metadata": {},
   "source": [
    "## Exercise - Data Analysis for Vacation Planning\n",
    "\n",
    "You're planning a vacation, and you need to decide which city you want to visit. You have shortlisted four cities and identified the return flight cost, daily hotel cost, and weekly car rental cost. While renting a car, you need to pay for entire weeks, even if you return the car sooner.\n",
    "\n",
    "\n",
    "| City | Return Flight (`$`) | Hotel per day (`$`) | Weekly Car Rental  (`$`) | \n",
    "|------|--------------------------|------------------|------------------------|\n",
    "| Paris|       200                |       20         |          200           |\n",
    "| London|      250                |       30         |          120           |\n",
    "| Dubai|       370                |       15         |          80           |\n",
    "| Mumbai|      450                |       10         |          70           |         \n",
    "\n",
    "\n",
    "Answer the following questions using the data above:\n",
    "\n",
    "1. If you're planning a 1-week long trip, which city should you visit to spend the least amount of money?\n",
    "2. How does the answer to the previous question change if you change the trip's duration to four days, ten days or two weeks?\n",
    "3. If your total budget for the trip is `$1000`, which city should you visit to maximize the duration of your trip? Which city should you visit if you want to minimize the duration?\n",
    "4. How does the answer to the previous question change if your budget is `$600`, `$2000`, or `$1500`?\n",
    "\n",
    "*Hint: To answer these questions, it will help to define a function `cost_of_trip` with relevant inputs like flight cost, hotel rate, car rental rate, and duration of the trip. You may find the `math.ceil` function useful for calculating the total cost of car rental.*"
   ]
  },
  {
   "cell_type": "code",
   "execution_count": 9,
   "id": "bc40db89-c1ff-4134-a46c-534c36b0e78c",
   "metadata": {},
   "outputs": [
    {
     "name": "stdout",
     "output_type": "stream",
     "text": [
      "Dubai - 555 : London - 580 : Mumbai - 590 : Paris - 540 \n"
     ]
    }
   ],
   "source": [
    "#1\n",
    "cost_to_visit_paris = 200 + (20 * 7) + 200\n",
    "cost_to_visit_london = 250 + (30 * 7) + 120\n",
    "cost_to_visit_dubai = 370 + (15 * 7) + 80\n",
    "cost_to_visit_mumbai = 450 + (10 * 7) + 70\n",
    "\n",
    "print (\"Dubai - {} : London - {} : Mumbai - {} : Paris - {} \".format(cost_to_visit_dubai,cost_to_visit_london,cost_to_visit_mumbai,cost_to_visit_paris))"
   ]
  },
  {
   "cell_type": "code",
   "execution_count": 14,
   "id": "8b6c6f2c-f062-4909-a22d-2dd871e191fd",
   "metadata": {},
   "outputs": [
    {
     "name": "stdout",
     "output_type": "stream",
     "text": [
      "If you're planning a 1-week long trip, (Paris - $540) city you should visit to spend the least amount of money.\n"
     ]
    }
   ],
   "source": [
    "print(\"If you're planning a 1-week long trip, (Paris - ${}) city you should visit to spend the least amount of money.\".format(cost_to_visit_paris))"
   ]
  },
  {
   "cell_type": "code",
   "execution_count": 16,
   "id": "916edb22-3448-4518-be29-22643d29e0db",
   "metadata": {},
   "outputs": [
    {
     "name": "stdout",
     "output_type": "stream",
     "text": [
      "Dubai - 510 : London - 490 : Mumbai - 560 : Paris - 480 \n",
      "If you're planning a 4-day long trip, (Paris - $480) city you should visit to spend the least amount of money.\n"
     ]
    }
   ],
   "source": [
    "#2\n",
    "#for 4 days\n",
    "cost_to_visit_paris = 200 + (20 * 4) + 200\n",
    "cost_to_visit_london = 250 + (30 * 4) + 120\n",
    "cost_to_visit_dubai = 370 + (15 * 4) + 80\n",
    "cost_to_visit_mumbai = 450 + (10 * 4) + 70\n",
    "\n",
    "print (\"Dubai - {} : London - {} : Mumbai - {} : Paris - {} \".format(cost_to_visit_dubai,cost_to_visit_london,cost_to_visit_mumbai,cost_to_visit_paris))\n",
    "print(\"If you're planning a 4-day long trip, (Paris - ${}) city you should visit to spend the least amount of money.\".format(cost_to_visit_paris))"
   ]
  },
  {
   "cell_type": "code",
   "execution_count": 25,
   "id": "6bee492a-d0df-4e1c-9e56-79e53904236f",
   "metadata": {},
   "outputs": [
    {
     "name": "stdout",
     "output_type": "stream",
     "text": [
      "Dubai - 680 : London - 790 : Mumbai - 690 : Paris - 800 \n",
      "If you're planning a 4-day long trip,  (Dubai - $680) city you should visit to spend the least amount of money.\n"
     ]
    }
   ],
   "source": [
    "#for 10 days\n",
    "cost_to_visit_paris = 200 + (20 * 10) + (200*2)\n",
    "cost_to_visit_london = 250 + (30 * 10) + (120*2)\n",
    "cost_to_visit_dubai = 370 + (15 * 10) + (80*2)\n",
    "cost_to_visit_mumbai = 450 + (10 * 10) + (70*2)\n",
    "\n",
    "print (\"Dubai - {} : London - {} : Mumbai - {} : Paris - {} \".format(cost_to_visit_dubai,cost_to_visit_london,cost_to_visit_mumbai,cost_to_visit_paris))\n",
    "print(\"If you're planning a 4-day long trip,  (Dubai - ${}) city you should visit to spend the least amount of money.\".format(cost_to_visit_dubai))"
   ]
  },
  {
   "cell_type": "code",
   "execution_count": 27,
   "id": "2592dde5-c4bd-4125-9ff3-a18d49e6467a",
   "metadata": {},
   "outputs": [
    {
     "name": "stdout",
     "output_type": "stream",
     "text": [
      "Dubai - 740 : London - 910 : Mumbai - 730 : Paris - 880 \n",
      "If you're planning a 4-day long trip, (Mumbai - $730)  city you should visit to spend the least amount of money.\n"
     ]
    }
   ],
   "source": [
    "#for 2 weeks\n",
    "cost_to_visit_paris = 200 + (20 * 14) + (200*2)\n",
    "cost_to_visit_london = 250 + (30 * 14) + (120*2)\n",
    "cost_to_visit_dubai = 370 + (15 * 14) + (80*2)\n",
    "cost_to_visit_mumbai = 450 + (10 * 14) + (70*2)\n",
    "\n",
    "print (\"Dubai - {} : London - {} : Mumbai - {} : Paris - {} \".format(cost_to_visit_dubai,cost_to_visit_london,cost_to_visit_mumbai,cost_to_visit_paris))\n",
    "print(\"If you're planning a 4-day long trip, (Mumbai - ${})  city you should visit to spend the least amount of money.\".format(cost_to_visit_mumbai))"
   ]
  },
  {
   "cell_type": "code",
   "execution_count": null,
   "id": "c6092412-749c-4739-867b-161ffd4ecb51",
   "metadata": {},
   "outputs": [],
   "source": []
  }
 ],
 "metadata": {
  "kernelspec": {
   "display_name": "Python 3",
   "language": "python",
   "name": "python3"
  },
  "language_info": {
   "codemirror_mode": {
    "name": "ipython",
    "version": 3
   },
   "file_extension": ".py",
   "mimetype": "text/x-python",
   "name": "python",
   "nbconvert_exporter": "python",
   "pygments_lexer": "ipython3",
   "version": "3.7.9"
  }
 },
 "nbformat": 4,
 "nbformat_minor": 5
}
